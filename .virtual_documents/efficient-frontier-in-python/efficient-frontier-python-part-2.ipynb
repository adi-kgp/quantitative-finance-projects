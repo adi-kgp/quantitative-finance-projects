


import numpy as np
import pandas as pd
import yfinance as yf
import datetime as dt
import scipy as sc


# Import data
def getData(stocks, start, end):
    stockData = yf.download(stocks, start, end)
    stockData = stockData['Close']
    
    returns = stockData.pct_change()
    meanReturns = returns.mean()
    covMatrix = returns.cov()

    return meanReturns, covMatrix

def portfolio_performance(weights, meanReturns, covMatrix):
    returns = np.sum(meanReturns*weights)*252
    std = np.sqrt(np.dot(weights.T, np.dot(covMatrix, weights))) * np.sqrt(252)
    return returns, std

stockList = ['CBA', 'BHP', "TLS"]
stocks = [stock+'.AX' for stock in stockList]

endDate = dt.datetime.now()
startDate = endDate - dt.timedelta(days=365)

weights = np.array([0.3, 0.3, 0.4])


def negative_sharpe_ratio(weights, meanReturns, covMatrix, riskFreeRate=0):
    pReturns, pStd = portfolio_performance(weights, meanReturns, covMatrix)
    return -(pReturns - riskFreeRate)/pStd


def maximize_sharpe_ratio(meanReturns, covMatrix, riskFreeRate = 0, constraintSet = (0,1)):
    "Minimize the negative sharpe ratio, by altering the weights of the portfolio"
    numAssets = len(meanReturns)
    args = (meanReturns, covMatrix, riskFreeRate)
    constraints = ({'type': 'eq', 'fun': lambda x: np.sum(x) - 1})
    bound = constraintSet
    bounds = tuple(bound for asset in range(numAssets))
    result = sc.optimize.minimize(negative_sharpe_ratio, numAssets*[1./numAssets], args=args, method='SLSQP', bounds=bounds, constraints=constraints)
    return result


meanReturns , covMatrix = getData(stocks, startDate, endDate)
returns, std = portfolio_performance(weights, meanReturns, covMatrix)
results = maximize_sharpe_ratio(meanReturns, covMatrix)
print(results)


max_sharpe_ratio, maxWeights = results['fun'], results['x']
print(max_sharpe_ratio, maxWeights)


def portfolio_variance(weights, meanReturns, covMatrix):
    return portfolio_performance(weights, meanReturns, covMatrix)[1]


def minimize_variance(meanReturns, covMatrix, constraintSet=(0,1)):
    "Minimize the portfolio variance by altering the weights/allocation of assets in the portfolio"
    numAssets = len(meanReturns)
    args = (meanReturns, covMatrix)
    constraints = ({'type': 'eq', 'fun': lambda x: np.sum(x) - 1})
    bound = constraintSet
    bounds = tuple(bound for asset in range(numAssets))
    result = sc.optimize.minimize(portfolio_variance, numAssets*[1./numAssets], args=args, method='SLSQP', bounds=bounds, constraints=constraints)
    return result


minVarResult = minimize_variance(meanReturns, covMatrix)
minVar, minVarWeights = minVarResult['fun'], minVarResult['x']
print(minVar, minVarWeights)


def portfolio_returns(weights):
    return portfolio_performance(weights, meanReturns, covMatrix)[0]

def efficient_optim(meanReturns, covMatrix, returnTarget, constraintSet=(0,1)):
    """
        For each return target we want to optimize the portfolio for min variance
    """
    numAssets = len(meanReturns)
    args = (meanReturns, covMatrix)
    constraints = ({'type':'eq', 'fun': lambda x: portfolio_returns(x, meanReturns, covMatrix) - returnTarget}, 
                   {'type': 'eq', 'fun': lambda x: np.sum(x) - 1})
    bounds = (constraintSet for asset in range(numAssets))
    effOpt = sc.optimize.minimize(portfolio_variance, numAssets*[1./numAssets], args=args, 
                                  method='SLSQP', bounds=bounds, constraints=constraints)
    return effOpt





def calculated_results(meanReturns, covMatrix, riskFreeRate=0, constraintSet=(0,1)):
    """Read in mean, cov matrix and other financial information,
        Output Max SR, Min volatility, efficient frontier"""
    # Max Sharpe ratio portfolio
    maxSR_Portfolio = maximize_sharpe_ratio(meanReturns, covMatrix)
    maxSR_returns, maxSR_std = portfolio_performance(maxSR_Portfolio['x'], meanReturns, covMatrix)
    maxSR_returns, maxSR_std = round(maxSR_returns*100, 2), round(maxSR_std*100, 2)
    maxSR_allocation = pd.DataFrame(maxSR_Portfolio['x'], index=meanReturns.index, columns=['allocation'])
    maxSR_allocation.allocation = [round(i*100,2) for i in maxSR_allocation.allocation]
    # Min volatility portfolio
    minVol_Portfolio = minimize_variance(meanReturns, covMatrix)
    minVol_returns, minVol_std = portfolio_performance(minVol_Portfolio['x'], meanReturns, covMatrix)
    minVol_returns, minVol_std = round(minVol_returns*100,2), round(minVol_std*100, 2)
    minVol_allocation = pd.DataFrame(minVol_Portfolio['x'], index=meanReturns.index, columns=['allocation'])
    minVol_allocation.allocation = [round(i*100,2) for i in minVol_allocation.allocation]
    return maxSR_returns, maxSR_std, maxSR_allocation, minVol_returns, minVol_std, minVol_allocation

print(calculated_results(meanReturns, covMatrix))



