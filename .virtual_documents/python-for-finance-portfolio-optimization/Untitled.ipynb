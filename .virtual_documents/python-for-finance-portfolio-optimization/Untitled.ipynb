


# import the python libraries
from pandas_datareader import data as web
import pandas as pd
import numpy as np
from datetime import datetime
import matplotlib.pyplot as plt
plt.style.use('fivethirtyeight')


# Get the etock symbols/tickers in the portfolio
# FAANG
assets = ['FB', 'AMZN', 'NFLX', 'AAPL', 'GOOG']


















