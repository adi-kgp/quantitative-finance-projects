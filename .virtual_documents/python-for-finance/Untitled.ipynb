


import pandas as pd
import datetime as dt
import numpy as np
from scipy import stats
import yfinance as yf





start = dt.datetime(2021,1,1)
end = dt.datetime.now()
start, end





stockList = ['CBA', 'NAB', 'ANZ', 'BHP', 'WBC']
stocks = ['^AXJO'] + [i + '.AX' for i in stockList]
stocks





df = yf.download(stocks, start, end)
log_returns = np.log(df.Close/df.Close.shift(1)).dropna()
log_returns.head()





def calc_beta(df):
    np_array = df.values
    # Market index is the first column 0
    m = np_array[:,0]
    beta = []
    for ind, col in enumerate(df):
        if ind > 0:
            # stock returns indexed by ind
            s = np_array[:, ind]
            # calculate covariance matrix between stock and market
            covariance = np.cov(s,m)
            beta.append(covariance[0,1]/covariance[1,1])
    return pd.Series(beta, df.columns[:-1], name='Beta')


calc_beta(log_returns)





def regression_beta(df):
    np_array = df.values
    # Market index is the first column 0
    m = np_array[:,0]
    beta = []
    for ind, col in enumerate(df):
        if ind > 0:
            # stock returns indexed by ind
            s = np_array[:, ind]
            beta.append(stats.linregress(m,s)[0])
    return pd.Series(beta, df.columns[:-1], name='Beta')


regression_beta(log_returns)





def matrix_beta(df):
    # Market index
    X = df.values[:, [0]]
    # add an additional column for intercept (initialize these values as 1s)
    X = np.concatenate([np.ones_like(X), X], axis=1)
    # Apply the matrix algebra for linear regression  - closed form solution
    beta = np.linalg.pinv(X.T @ X) @ X.T @ df.values[:, 1:]
    return pd.Series(beta[1], df.columns[:-1], name='Beta')


beta = matrix_beta(log_returns)
beta





df.Close[-1:]


units = np.array([100,250,300,400,200])
ASXprices = df.Close[-1:].values.tolist()[0]
price = np.array([round(price,2) for price in ASXprices[:-1]])
value = units*price
weight = [round(val/sum(value),2) for val in value]
beta = round(beta, 2)


Portfolio = pd.DataFrame({
    'Stock': stockList,
    'Direction': 'Long',
    'Type': 'S',
    'Stock Price': price,
    'Price': price,
    'Units': units,
    'Value': value,
    'Weights': weight,
    'Beta': beta,
    'Weighted Beta': weight*beta
})
Portfolio





Portfolio = Portfolio.drop(['Weighted Beta', 'Weights'], axis=1)
Portfolio['Delta'] = Portfolio['Units']
Portfolio





Options = [{'option': 'CBA0Z8', 'underlying': 'CBA', 'price': 3.950, 'units': 2, 'delta': 0.627, 'direction':'Short', 'type':'Call'},
          {'option': 'WPLQ89', 'underlying': 'BHP', 'price': 1.325, 'units': 2, 'delta': -0.425, 'direction':'Long', 'type':'Put'}]


for index, row in enumerate(Options):
    Portfolio.loc[row['option']] = [row['underlying'], row['direction'], row['type'], Portfolio.loc[row['underlying']+'.AX', 'Price'],
                                    row['price'], row['units'],row['price'] * row['units']*100, beta[row['underlying']+'.AX'],
                                   (row['delta']*row['units']*100 if row['direction'] == 'Long' else -row['delta']*row['units']*100)]
Portfolio





Portfolio['ASX200 Weighted Delta (point)'] = round(Portfolio['Beta']*Portfolio['Stock Price']/ASXprices[0]*Portfolio['Delta'],2)
Portfolio['ASX200 Weighted Delta (1%)'] = round(Portfolio['Beta']*Portfolio['Stock Price']*Portfolio['Delta']*0.01,2)
Portfolio









