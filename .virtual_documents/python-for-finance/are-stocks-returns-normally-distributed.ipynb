








import datetime as dt
import pandas as pd
import numpy as np
import pylab
import seaborn as sns
import scipy.stats as stats
import yfinance as yf
import plotly.offline as pyo

pyo.init_notebook_mode(connected=True)
pd.options.plotting.backend = 'plotly'





end = dt.datetime.now()
start = dt.datetime(2019,1,1)

df = yf.download('CBA.AX', start, end)
df.head()








simple_returns = df.Close.pct_change().dropna()
simple_returns





df.Close.plot().update_layout(autosize=False, width=500, height=300)


print('First', df.Close[0], 'Last', df.Close[-1])





simple_returns.mean()


df.Close[0]*(1+simple_returns.mean())**len(simple_returns)


df['Close'][0] * np.prod([(1+Rt) for Rt in simple_returns])








log_returns = np.log(df.Close/df.Close.shift(1)).dropna()
log_returns


log_returns.mean()


df.Close[0]*np.exp(log_returns.mean() * len(log_returns))





log_returns.plot(kind='hist').update_layout(autosize=False, width=500, height=300)





log_returns_sorted = log_returns.tolist()
log_returns_sorted.sort()
worst = log_returns_sorted[0]
best = log_returns_sorted[-1]

std_worst = (worst - log_returns.mean())/log_returns.std()
std_best = (best - log_returns.mean())/log_returns.std()

print('Std dev. worst %.2f best %.2f' %(std_worst, std_best))
print('Std dev. worst %.15f best %.20f' %(stats.norm(0,1).pdf(std_worst), stats.norm(0,1).pdf(std_best)))








stats.probplot(log_returns, dist='norm', plot=pylab)
print('Q-Q Plot')





log_returns.plot(kind='box').update_layout(autosize=False, width=500, height=300)





ks_stat, p_value = stats.kstest(log_returns, 'norm')
print(ks_stat, p_value)
if p_value > 0.05:
    print("Probability Guassian")
else:
    print("Probability Not Gaussian")





sw_stat, p_value = stats.shapiro(log_returns)
print(sw_stat, p_value)
if p_value > 0.05:
    print("Probability Guassian")
else:
    print("Probability Not Gaussian")









