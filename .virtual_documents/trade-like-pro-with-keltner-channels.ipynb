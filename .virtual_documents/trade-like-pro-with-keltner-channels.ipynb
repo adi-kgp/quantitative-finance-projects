


# Import the libraries
import yfinance as yf
import pandas as pd
import matplotlib.pyplot as plt
import numpy as np


# Create a function to calculate the keltner channel
def keltner_channels(data, window=20, atr_multiplier = 1):
    
    # Create an empty dictionary
    keltner_channels = {}

    # Calculate the typical price
    typical_price = (data['High'] + data['Low'] + data['Close']) / 3

    # Calculate the exponential moving average
    exponential_moving_average = typical_price.ewm(span=window, adjust=False).mean()

    # Calculate the Average True Range ()
    












