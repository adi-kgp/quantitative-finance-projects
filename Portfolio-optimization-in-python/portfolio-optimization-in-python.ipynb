{
 "cells": [
  {
   "cell_type": "markdown",
   "id": "814b0e5b-d4c0-4137-ac71-ce1b4fd86bea",
   "metadata": {},
   "source": [
    "### Portfolio Optimization"
   ]
  },
  {
   "cell_type": "markdown",
   "id": "57ff8581-8151-4e57-854e-959c0aeae030",
   "metadata": {},
   "source": [
    "#### Import required libraries"
   ]
  },
  {
   "cell_type": "code",
   "execution_count": 1,
   "id": "2dead6d8-fedf-4cc7-8f6e-3b93b56b9703",
   "metadata": {},
   "outputs": [],
   "source": [
    "import yfinance as yf\n",
    "import pandas as pd\n",
    "from datetime import datetime, timedelta\n",
    "import numpy as np\n",
    "from scipy.optimize import minimize"
   ]
  },
  {
   "cell_type": "markdown",
   "id": "9243c8be-0d76-4ffd-9ec5-9bc4d43eec61",
   "metadata": {},
   "source": [
    "#### Section 1: Define Tickers and Time Range"
   ]
  },
  {
   "cell_type": "code",
   "execution_count": 3,
   "id": "4980b363-ca45-4c05-8d96-d121e9ac0b0f",
   "metadata": {},
   "outputs": [],
   "source": [
    "# Define the list of tickers\n",
    "tickers = ['SPY', 'BND', 'GLD', 'QQQ', 'VTI']"
   ]
  },
  {
   "cell_type": "code",
   "execution_count": 5,
   "id": "279a103e-61fe-431f-8210-650b8568d3b2",
   "metadata": {},
   "outputs": [
    {
     "name": "stdout",
     "output_type": "stream",
     "text": [
      "2019-04-16 16:01:10.532581\n"
     ]
    }
   ],
   "source": [
    "end_date = datetime.today()\n",
    "start_date = end_date - timedelta(days=5*365)\n",
    "print(start_date)"
   ]
  },
  {
   "cell_type": "code",
   "execution_count": 6,
   "id": "42a5f870-fe1f-4e70-b995-5a93293b7a36",
   "metadata": {},
   "outputs": [
    {
     "name": "stdout",
     "output_type": "stream",
     "text": [
      "2024-04-14 16:01:10.532581\n"
     ]
    }
   ],
   "source": [
    "print(end_date)"
   ]
  },
  {
   "cell_type": "markdown",
   "id": "24196ec2-28a8-47bd-b391-63cba352557e",
   "metadata": {},
   "source": [
    "#### Section 2: Download Adjusted Close Prices"
   ]
  },
  {
   "cell_type": "code",
   "execution_count": 8,
   "id": "9e108485-d48e-49ca-8e63-dcc49dce8041",
   "metadata": {},
   "outputs": [
    {
     "name": "stderr",
     "output_type": "stream",
     "text": [
      "[*********************100%%**********************]  1 of 1 completed\n",
      "[*********************100%%**********************]  1 of 1 completed\n",
      "[*********************100%%**********************]  1 of 1 completed\n",
      "[*********************100%%**********************]  1 of 1 completed\n",
      "[*********************100%%**********************]  1 of 1 completed\n"
     ]
    }
   ],
   "source": [
    "# Create an empty dataframe to store the adjusted close prices\n",
    "adj_close_df = pd.DataFrame()\n",
    "# Download the close prices for each ticker\n",
    "for ticker in tickers:\n",
    "    data = yf.download(ticker, start=start_date, end=end_date)\n",
    "    adj_close_df[ticker] = data['Adj Close']"
   ]
  },
  {
   "cell_type": "code",
   "execution_count": 9,
   "id": "1cfeb1d5-546b-410b-b227-0a1a9b3d881b",
   "metadata": {},
   "outputs": [
    {
     "name": "stdout",
     "output_type": "stream",
     "text": [
      "                   SPY        BND         GLD         QQQ         VTI\n",
      "Date                                                                 \n",
      "2019-04-16  267.747589  70.646645  120.510002  180.550385  137.192749\n",
      "2019-04-17  267.092499  70.646645  120.279999  181.179626  136.685013\n",
      "2019-04-18  267.618408  70.743233  120.370003  181.411972  136.888092\n",
      "2019-04-22  267.849091  70.672989  120.370003  181.925034  136.925064\n",
      "2019-04-23  270.257507  70.795906  120.120003  184.238815  138.300629\n",
      "...                ...        ...         ...         ...         ...\n",
      "2024-04-08  518.719971  71.620003  216.479996  440.600006  257.480011\n",
      "2024-04-09  519.320007  71.879997  217.669998  442.230011  257.850006\n",
      "2024-04-10  514.119995  71.040001  215.610001  438.369995  254.970001\n",
      "2024-04-11  518.000000  71.040001  219.800003  445.369995  256.700012\n",
      "2024-04-12  510.850006  71.199997  216.889999  438.269989  253.000000\n",
      "\n",
      "[1257 rows x 5 columns]\n"
     ]
    }
   ],
   "source": [
    "### Display the DataFrame\n",
    "print(adj_close_df)"
   ]
  },
  {
   "cell_type": "markdown",
   "id": "c5975bc5-135d-4117-b7f0-dbdd75b46880",
   "metadata": {},
   "source": [
    "#### Section 3: Calculate Lognormal Returns"
   ]
  },
  {
   "cell_type": "code",
   "execution_count": 11,
   "id": "9a89100e-c613-46be-834e-5b5fd888560b",
   "metadata": {},
   "outputs": [],
   "source": [
    "## Calculate the lognormal returns for each ticker\n",
    "log_returns = np.log(adj_close_df / adj_close_df.shift(1))"
   ]
  },
  {
   "cell_type": "code",
   "execution_count": 12,
   "id": "e3d2cd76-a847-4e9c-8301-9d250c2c78dd",
   "metadata": {},
   "outputs": [],
   "source": [
    "# Drop any missing values\n",
    "log_returns = log_returns.dropna()"
   ]
  },
  {
   "cell_type": "markdown",
   "id": "cad2b7b9-060b-449e-a181-cae6157ea2d3",
   "metadata": {},
   "source": [
    "#### Section 4: Calculate Covariance Matrix"
   ]
  },
  {
   "cell_type": "code",
   "execution_count": 13,
   "id": "3d88ce19-5b56-4718-8c67-e6e9cc96e108",
   "metadata": {},
   "outputs": [],
   "source": [
    "# Calculate covariance matrix using annualized log returns\n",
    "cov_matrix = log_returns.cov()*252"
   ]
  },
  {
   "cell_type": "code",
   "execution_count": 14,
   "id": "48351eca-57be-4255-ab48-3919b99d3881",
   "metadata": {},
   "outputs": [
    {
     "name": "stdout",
     "output_type": "stream",
     "text": [
      "          SPY       BND       GLD       QQQ       VTI\n",
      "SPY  0.044271  0.002822  0.003787  0.049904  0.045331\n",
      "BND  0.002822  0.004735  0.003886  0.003424  0.003009\n",
      "GLD  0.003787  0.003886  0.022644  0.005042  0.003980\n",
      "QQQ  0.049904  0.003424  0.005042  0.064850  0.051050\n",
      "VTI  0.045331  0.003009  0.003980  0.051050  0.046796\n"
     ]
    }
   ],
   "source": [
    "print(cov_matrix)"
   ]
  },
  {
   "cell_type": "markdown",
   "id": "1385eb71-44b0-4e47-8b51-eccb4f675b6a",
   "metadata": {},
   "source": [
    "#### Section 5: Define Portfolio Performance Metrics"
   ]
  },
  {
   "cell_type": "markdown",
   "id": "a84bd5e2-e3f9-484b-9cb2-23fb76cb335f",
   "metadata": {},
   "source": [
    "**Calculate the portfolio standard deviation**\n",
    "\n",
    "This line of code calculates the portfolio variance, which is a measure of the risk associated with a portfolio of assets. It represents the combined volatility of the assets in the portfolio, taking into account their individual volatilities and correlations with each other. "
   ]
  },
  {
   "cell_type": "code",
   "execution_count": 15,
   "id": "fa6e4823-b28b-42bb-968f-99091a32d06b",
   "metadata": {},
   "outputs": [],
   "source": [
    "def standard_deviation(weights, cov_matrix):\n",
    "    variance = weights.T @ cov_matrix @ weights\n",
    "    return np.sqrt(variance)"
   ]
  },
  {
   "cell_type": "markdown",
   "id": "13557297-5f30-446e-934c-f053531b2ad6",
   "metadata": {},
   "source": [
    "**Calculate the expected return**\n",
    "* Key assumption: Expected returns are based on historical returns"
   ]
  },
  {
   "cell_type": "code",
   "execution_count": 17,
   "id": "de33c2f2-7688-4718-9cf0-29bfcc5e8934",
   "metadata": {},
   "outputs": [],
   "source": [
    "def expected_return(weights, log_returns):\n",
    "    return np.sum(log_returns.mean()*weights)*252"
   ]
  },
  {
   "cell_type": "markdown",
   "id": "2ad4ce7f-55bc-4184-9d30-56d84d6401bd",
   "metadata": {},
   "source": [
    "#### Calculate Sharpe Ratio"
   ]
  },
  {
   "cell_type": "code",
   "execution_count": 18,
   "id": "27eacaac-27b4-4d63-a570-f4ece5bbb76d",
   "metadata": {},
   "outputs": [],
   "source": [
    "def sharpe_ratio(weights, log_returns, cov_matrix, risk_free_rate):\n",
    "    return(expected_return(weights, log_returns)-risk_free_rate) / standard_deviation(weights, cov_matrix)"
   ]
  },
  {
   "cell_type": "markdown",
   "id": "2b65407f-4bd4-4cbb-bdef-1084c8229d7a",
   "metadata": {},
   "source": [
    "#### Section 6: Portfolio Optimization"
   ]
  },
  {
   "cell_type": "code",
   "execution_count": 20,
   "id": "b08d880f-5563-4c8b-9210-41c7681a5415",
   "metadata": {},
   "outputs": [
    {
     "name": "stdout",
     "output_type": "stream",
     "text": [
      "0.0421\n"
     ]
    }
   ],
   "source": [
    "# Set the risk free rate\n",
    "from fredapi import Fred\n",
    "\n",
    "# Replace \"your_api_key\" with your actual FRED API Key\n",
    "fred = Fred(api_key='50afc3e3f77c91b124b8da9ce9259216')\n",
    "ten_year_treasury_rate = fred.get_series_latest_release('GS10')/100\n",
    "\n",
    "# Set the risk free rate\n",
    "risk_free_rate = ten_year_treasury_rate.iloc[-1]\n",
    "print(risk_free_rate)"
   ]
  },
  {
   "cell_type": "markdown",
   "id": "fcdcecb6-d795-4ca0-bdd7-0a2b90f6fc53",
   "metadata": {},
   "source": [
    "#### Define the function to minimize (negative Sharpe Ratio)\n",
    "\n",
    "In the case of the scipy.optimize.minimize() function, there is no direct method to find the maximum value of a function."
   ]
  },
  {
   "cell_type": "code",
   "execution_count": 21,
   "id": "dc844a36-05dc-47d2-bfc6-51b904b3e683",
   "metadata": {},
   "outputs": [],
   "source": [
    "def neg_sharpe_ratio(weights, log_returns, cov_matrix, risk_free_rate):\n",
    "    return sharpe_ratio(weights, log_returns, cov_matrix, risk_free_rate)"
   ]
  },
  {
   "cell_type": "markdown",
   "id": "3b9e607a-b3bf-4acc-a097-4cae12f698aa",
   "metadata": {},
   "source": [
    "#### Set the constraints and bounds\n",
    "\n",
    "Constraints are conditions that must be met by the solution during the optimization process. In this case, the constraint is that the sum of all portfolio weights must be equal to 1. The constraints variable is a dictionary with two keys, 'type' and 'fun'. 'type' is set to 'eq', which means 'equally constraint', and 'fun' is assigned the function check_sum, which checks if the sum of the portfolio weights equals 1. \n",
    "\n",
    "Bounds are the limits placed on the variables during the optimization process. In this case, the variables are the portfolio weights , and each weight should be between 0 and 1. "
   ]
  },
  {
   "cell_type": "code",
   "execution_count": 22,
   "id": "6a55aad2-2f93-4f63-b421-6e5f96130c33",
   "metadata": {},
   "outputs": [],
   "source": [
    "constraints = {'type': 'eq', 'fun': lambda weights: np.sum(weights) - 1}\n",
    "bounds = [(0,0.5) for _ in range(len(tickers))]"
   ]
  },
  {
   "cell_type": "markdown",
   "id": "de033e23-a6be-4982-8b8b-fa242b61fa17",
   "metadata": {},
   "source": [
    "#### Set the initial weights"
   ]
  },
  {
   "cell_type": "code",
   "execution_count": 23,
   "id": "61724ddd-1545-47f0-b6c4-3105dc5f7749",
   "metadata": {},
   "outputs": [
    {
     "name": "stdout",
     "output_type": "stream",
     "text": [
      "[0.2 0.2 0.2 0.2 0.2]\n"
     ]
    }
   ],
   "source": [
    "initial_weights = np.array([1/len(tickers)]*len(tickers))\n",
    "print(initial_weights)"
   ]
  },
  {
   "cell_type": "markdown",
   "id": "e7c6adb1-34cf-4c2a-9767-53f43e11c9cb",
   "metadata": {},
   "source": [
    "#### Optimize the weights to maximize the Sharpe Ratio\n",
    "\n",
    "'SLSQP' stands for Sequential Least Squares Quadratic Programming, which is a numerical optimization technique suitable for solving nonlinear optimization problems with constraints."
   ]
  },
  {
   "cell_type": "code",
   "execution_count": 24,
   "id": "87226faa-a2a9-4894-b9db-62401cea4363",
   "metadata": {},
   "outputs": [],
   "source": [
    "optimized_results = minimize(neg_sharpe_ratio, initial_weights, args=(log_returns, cov_matrix, risk_free_rate), method='SLSQP', constraints=constraints, bounds=bounds)"
   ]
  },
  {
   "cell_type": "markdown",
   "id": "7a31511f-6f94-42a3-a6fe-84a5ebfcb47d",
   "metadata": {},
   "source": [
    "#### Get the optimal weights"
   ]
  },
  {
   "cell_type": "code",
   "execution_count": 25,
   "id": "c251d05e-aebc-4719-8973-739e0906dbe9",
   "metadata": {},
   "outputs": [],
   "source": [
    "optimal_weights = optimized_results.x"
   ]
  },
  {
   "cell_type": "markdown",
   "id": "1e3a7164-6d07-4ea7-a839-7766c2e54737",
   "metadata": {},
   "source": [
    "#### Section 7: Analyze the Optimal Portfolio\n",
    "\n",
    "**Display analytics of the optimal portfolio**"
   ]
  },
  {
   "cell_type": "code",
   "execution_count": 26,
   "id": "0702b8ac-d0aa-402a-b60b-68cf940ec633",
   "metadata": {},
   "outputs": [
    {
     "name": "stdout",
     "output_type": "stream",
     "text": [
      "Optimal weights:\n",
      "SPY: 0.0000\n",
      "BND: 0.5000\n",
      "GLD: 0.0000\n",
      "QQQ: 0.0000\n",
      "VTI: 0.5000\n",
      "\n",
      "Expected Annual Return: 0.0622\n",
      "Expected Volatility: 0.1199\n",
      "Sharpe Ratio: 0.1674\n"
     ]
    }
   ],
   "source": [
    "print('Optimal weights:')\n",
    "for ticker, weight in zip(tickers, optimal_weights):\n",
    "    print(f\"{ticker}: {weight:.4f}\")\n",
    "\n",
    "print()\n",
    "\n",
    "optimal_portfolio_return = expected_return(optimal_weights, log_returns)\n",
    "optimal_portfolio_volatility = standard_deviation(optimal_weights, cov_matrix)\n",
    "optimal_sharpe_ratio = sharpe_ratio(optimal_weights, log_returns, cov_matrix, risk_free_rate)\n",
    "\n",
    "print(f\"Expected Annual Return: {optimal_portfolio_return:.4f}\")\n",
    "print(f\"Expected Volatility: {optimal_portfolio_volatility:.4f}\")\n",
    "print(f\"Sharpe Ratio: {optimal_sharpe_ratio:.4f}\")"
   ]
  },
  {
   "cell_type": "markdown",
   "id": "754f24ac-9879-433d-9fe9-a2b2853bed3d",
   "metadata": {},
   "source": [
    "#### Display the final portfolio in a plot"
   ]
  },
  {
   "cell_type": "code",
   "execution_count": 27,
   "id": "b34e826f-e322-4ccf-a9dc-2184ace52401",
   "metadata": {},
   "outputs": [
    {
     "data": {
      "image/png": "[encoded data removed]",
      "text/plain": [
       "<Figure size 1000x600 with 1 Axes>"
      ]
     },
     "metadata": {},
     "output_type": "display_data"
    }
   ],
   "source": [
    "import matplotlib.pyplot as plt\n",
    "\n",
    "# Import the required library\n",
    "import matplotlib.pyplot as plt\n",
    "\n",
    "# Create a bar chart of the optimal weights\n",
    "plt.figure(figsize=(10,6))\n",
    "plt.bar(tickers, optimal_weights)\n",
    "\n",
    "# Add labels and a ticker\n",
    "plt.xlabel('Assets')\n",
    "plt.ylabel('Optimal Weights')\n",
    "plt.title('Optimal Portfolio Weights')\n",
    "\n",
    "# Display the chart\n",
    "plt.show()"
   ]
  },
  {
   "cell_type": "code",
   "execution_count": null,
   "id": "041070b4-2c5d-4161-a39f-6ee158ae020d",
   "metadata": {},
   "outputs": [],
   "source": []
  },
  {
   "cell_type": "code",
   "execution_count": null,
   "id": "1d3c9e0e-025c-4fdf-b3ae-3f841dd8800f",
   "metadata": {},
   "outputs": [],
   "source": []
  }
 ],
 "metadata": {
  "kernelspec": {
   "display_name": "Python 3 (ipykernel)",
   "language": "python",
   "name": "python3"
  },
  "language_info": {
   "codemirror_mode": {
    "name": "ipython",
    "version": 3
   },
   "file_extension": ".py",
   "mimetype": "text/x-python",
   "name": "python",
   "nbconvert_exporter": "python",
   "pygments_lexer": "ipython3",
   "version": "3.10.12"
  }
 },
 "nbformat": 4,
 "nbformat_minor": 5
}
