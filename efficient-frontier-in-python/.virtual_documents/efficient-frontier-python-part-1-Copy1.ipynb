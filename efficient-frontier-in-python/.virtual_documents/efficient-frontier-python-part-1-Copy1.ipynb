


import numpy as np
import pandas as pd
import yfinance as yf
import datetime as dt
import scipy as sc


# Import data
def getData(stocks, start, end):
    stockData = yf.download(stocks, start, end)
    stockData = stockData['Close']
    
    returns = stockData.pct_change()
    meanReturns = returns.mean()
    covMatrix = returns.cov()

    return meanReturns, covMatrix

def portfolio_performance(weights, meanReturns, covMatrix):
    returns = np.sum(meanReturns*weights)*252
    std = np.sqrt(np.dot(weights.T, np.dot(covMatrix, weights))) * np.sqrt(252)
    return returns, std

stockList = ['CBA', 'BHP', "TLS"]
stocks = [stock+'.AX' for stock in stockList]

endDate = dt.datetime.now()
startDate = endDate - dt.timedelta(days=365)

weights = np.array([0.3, 0.3, 0.4])


def negative_sharpe_ratio(weights, meanReturns, covMatrix, riskFreeRate=0):
    pReturns, pStd = portfolio_performance(weights, meanReturns, covMatrix)
    return -(pReturns - riskFreeRate)/pStd


def maximize_sharpe_ratio(meanReturns, covMatrix, riskFreeRate = 0, constraintSet = (0,1)):
    "Minimize the negative sharpe ratio, by altering the weights of the portfolio"
    numAssets = len(meanReturns)
    args = (meanReturns, covMatrix, riskFreeRate)
    constraints = ({'type': 'eq', 'fun': lambda x: np.sum(x) - 1})
    bound = constraintSet
    bounds = tuple(bound for asset in range(numAssets))
    result = sc.optimize.minimize(negative_sharpe_ratio, numAssets*[1./numAssets], args=args, method='SLSQP', bounds=bounds, constraints=constraints)
    return result


meanReturns , covMatrix = getData(stocks, startDate, endDate)
returns, std = portfolio_performance(weights, meanReturns, covMatrix)
results = maximize_sharpe_ratio(meanReturns, covMatrix)
print(results)


max_sharpe_ratio, maxWeights = results['fun'], results['x']
print(max_sharpe_ratio, maxWeights)


def portfolio_variance(weights, meanReturns, covMatrix):
    return portolioPerformance(weights, meanReturns, covMatrix)[1]


def minimize_variance(meanReturns, covMatrix, riskFreeRate = 0, constraintSet=(0,1)):
    "Minimize the portfolio variance by altering the weights/allocation of assets in the portfolio"
    numAssets = len(meanReturns)
    args = (meanReturns, covMatrix, riskFreeRate)
    constraints = ({'type': 'eq', 'fun': lambda x: np.sum(x) - 1})
    bound = constraintSet
    bounds = tuple(bound for asset in range(numAssets))
    result = sc.optimize.minimize(portfolio_variance, numAssets*[1./numAssets], args=args, method='SLSQP', bounds=bounds, constraints=constraints)
    print(result)


minVarResult = minimize_variance(meanReturns, covMatrix)
minVar, minVarWeights = minVarResult['fun'], minVarResult['x']
print(minVar, minVarWeights)



