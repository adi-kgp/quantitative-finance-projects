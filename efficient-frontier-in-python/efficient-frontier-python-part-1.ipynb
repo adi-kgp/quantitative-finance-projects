{
 "cells": [
  {
   "cell_type": "markdown",
   "id": "10b9b394-4042-4cba-a6d4-5d7ebc632927",
   "metadata": {},
   "source": [
    "### Impelementation of Modern Portolio Theory"
   ]
  },
  {
   "cell_type": "code",
   "execution_count": 1,
   "id": "5469e404-1811-4c0c-9faf-41d4fc0ecbe6",
   "metadata": {},
   "outputs": [
    {
     "name": "stderr",
     "output_type": "stream",
     "text": [
      "[*********************100%%**********************]  3 of 3 completed"
     ]
    },
    {
     "name": "stdout",
     "output_type": "stream",
     "text": [
      "-3.25 11.65\n"
     ]
    },
    {
     "name": "stderr",
     "output_type": "stream",
     "text": [
      "\n"
     ]
    }
   ],
   "source": [
    "import numpy as np\n",
    "import pandas as pd\n",
    "import yfinance as yf\n",
    "import datetime as dt\n",
    "\n",
    "# Import data\n",
    "def getData(stocks, start, end):\n",
    "    stockData = yf.download(stocks, start, end)\n",
    "    stockData = stockData['Close']\n",
    "    \n",
    "    returns = stockData.pct_change()\n",
    "    meanReturns = returns.mean()\n",
    "    covMatrix = returns.cov()\n",
    "\n",
    "    return meanReturns, covMatrix\n",
    "\n",
    "def portfolio_performance(weights, meanReturns, covMatrix):\n",
    "    returns = np.sum(meanReturns*weights)*252\n",
    "    std = np.sqrt(np.dot(weights.T, np.dot(covMatrix, weights))) * np.sqrt(252)\n",
    "    return returns, std\n",
    "\n",
    "stockList = ['CBA', 'BHP', \"TLS\"]\n",
    "stocks = [stock+'.AX' for stock in stockList]\n",
    "\n",
    "endDate = dt.datetime.now()\n",
    "startDate = endDate - dt.timedelta(days=365)\n",
    "\n",
    "weights = np.array([0.3, 0.3, 0.4])\n",
    "\n",
    "meanReturns , covMatrix = getData(stocks, startDate, endDate)\n",
    "\n",
    "returns, std = portfolio_performance(weights, meanReturns, covMatrix)\n",
    "print(round(returns*100, 2), round(std*100, 2))"
   ]
  },
  {
   "cell_type": "code",
   "execution_count": null,
   "id": "46c24363-ddd8-4c3a-a32b-44d5f686410e",
   "metadata": {},
   "outputs": [],
   "source": []
  }
 ],
 "metadata": {
  "kernelspec": {
   "display_name": "Python 3 (ipykernel)",
   "language": "python",
   "name": "python3"
  },
  "language_info": {
   "codemirror_mode": {
    "name": "ipython",
    "version": 3
   },
   "file_extension": ".py",
   "mimetype": "text/x-python",
   "name": "python",
   "nbconvert_exporter": "python",
   "pygments_lexer": "ipython3",
   "version": "3.10.12"
  }
 },
 "nbformat": 4,
 "nbformat_minor": 5
}
