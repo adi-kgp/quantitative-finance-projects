{
 "cells": [
  {
   "cell_type": "markdown",
   "id": "2cd00049-5c65-420f-80d7-10e7c15a9330",
   "metadata": {},
   "source": [
    "### Implementation of Modern Portfolio Theory"
   ]
  },
  {
   "cell_type": "code",
   "execution_count": 1,
   "id": "f57dc1e2-ae6e-49b5-914c-28aba2243739",
   "metadata": {},
   "outputs": [],
   "source": [
    "import numpy as np\n",
    "import pandas as pd\n",
    "import yfinance as yf\n",
    "import datetime as dt\n",
    "import scipy as sc"
   ]
  },
  {
   "cell_type": "code",
   "execution_count": 2,
   "id": "fdfe588f-ebbc-4ae0-ab1b-3b3217834993",
   "metadata": {},
   "outputs": [],
   "source": [
    "# Import data\n",
    "def getData(stocks, start, end):\n",
    "    stockData = yf.download(stocks, start, end)\n",
    "    stockData = stockData['Close']\n",
    "    \n",
    "    returns = stockData.pct_change()\n",
    "    meanReturns = returns.mean()\n",
    "    covMatrix = returns.cov()\n",
    "\n",
    "    return meanReturns, covMatrix\n",
    "\n",
    "def portfolio_performance(weights, meanReturns, covMatrix):\n",
    "    returns = np.sum(meanReturns*weights)*252\n",
    "    std = np.sqrt(np.dot(weights.T, np.dot(covMatrix, weights))) * np.sqrt(252)\n",
    "    return returns, std\n",
    "\n",
    "stockList = ['CBA', 'BHP', \"TLS\"]\n",
    "stocks = [stock+'.AX' for stock in stockList]\n",
    "\n",
    "endDate = dt.datetime.now()\n",
    "startDate = endDate - dt.timedelta(days=365)\n",
    "\n",
    "weights = np.array([0.3, 0.3, 0.4])"
   ]
  },
  {
   "cell_type": "code",
   "execution_count": 3,
   "id": "cb99a54f-1cbc-429f-a1d8-da084e48bf11",
   "metadata": {},
   "outputs": [],
   "source": [
    "def negative_sharpe_ratio(weights, meanReturns, covMatrix, riskFreeRate=0):\n",
    "    pReturns, pStd = portfolio_performance(weights, meanReturns, covMatrix)\n",
    "    return -(pReturns - riskFreeRate)/pStd"
   ]
  },
  {
   "cell_type": "code",
   "execution_count": 4,
   "id": "59a365da-48e6-4a29-bb30-2fb589c91a60",
   "metadata": {},
   "outputs": [],
   "source": [
    "def maximize_sharpe_ratio(meanReturns, covMatrix, riskFreeRate = 0, constraintSet = (0,1)):\n",
    "    \"Minimize the negative sharpe ratio, by altering the weights of the portfolio\"\n",
    "    numAssets = len(meanReturns)\n",
    "    args = (meanReturns, covMatrix, riskFreeRate)\n",
    "    constraints = ({'type': 'eq', 'fun': lambda x: np.sum(x) - 1})\n",
    "    bound = constraintSet\n",
    "    bounds = tuple(bound for asset in range(numAssets))\n",
    "    result = sc.optimize.minimize(negative_sharpe_ratio, numAssets*[1./numAssets], args=args, method='SLSQP', bounds=bounds, constraints=constraints)\n",
    "    return result"
   ]
  },
  {
   "cell_type": "code",
   "execution_count": 5,
   "id": "0c73edd0-c202-4f3d-bb13-0d9ab06abba7",
   "metadata": {},
   "outputs": [
    {
     "name": "stderr",
     "output_type": "stream",
     "text": [
      "[*********************100%%**********************]  3 of 3 completed"
     ]
    },
    {
     "name": "stdout",
     "output_type": "stream",
     "text": [
      " message: Optimization terminated successfully\n",
      " success: True\n",
      "  status: 0\n",
      "     fun: -0.8397760190358585\n",
      "       x: [ 0.000e+00  1.000e+00  1.665e-16]\n",
      "     nit: 2\n",
      "     jac: [ 4.625e-01 -7.451e-09  1.353e+00]\n",
      "    nfev: 8\n",
      "    njev: 2\n"
     ]
    },
    {
     "name": "stderr",
     "output_type": "stream",
     "text": [
      "\n"
     ]
    }
   ],
   "source": [
    "meanReturns , covMatrix = getData(stocks, startDate, endDate)\n",
    "returns, std = portfolio_performance(weights, meanReturns, covMatrix)\n",
    "results = maximize_sharpe_ratio(meanReturns, covMatrix)\n",
    "print(results)"
   ]
  },
  {
   "cell_type": "code",
   "execution_count": 6,
   "id": "c438a128-5f8b-4956-b076-6be0dc52102c",
   "metadata": {},
   "outputs": [
    {
     "name": "stdout",
     "output_type": "stream",
     "text": [
      "-0.8397760190358585 [0.00000000e+00 1.00000000e+00 1.66533454e-16]\n"
     ]
    }
   ],
   "source": [
    "max_sharpe_ratio, maxWeights = results['fun'], results['x']\n",
    "print(max_sharpe_ratio, maxWeights)"
   ]
  },
  {
   "cell_type": "code",
   "execution_count": 20,
   "id": "a3a0be9c-58c5-4977-804c-d208a0025ace",
   "metadata": {},
   "outputs": [],
   "source": [
    "def portfolio_variance(weights, meanReturns, covMatrix):\n",
    "    return portfolio_performance(weights, meanReturns, covMatrix)[1]"
   ]
  },
  {
   "cell_type": "code",
   "execution_count": 23,
   "id": "3bbbe4f3-6aa4-4b0a-9898-e2c7f3d64f3e",
   "metadata": {},
   "outputs": [],
   "source": [
    "def minimize_variance(meanReturns, covMatrix, constraintSet=(0,1)):\n",
    "    \"Minimize the portfolio variance by altering the weights/allocation of assets in the portfolio\"\n",
    "    numAssets = len(meanReturns)\n",
    "    args = (meanReturns, covMatrix)\n",
    "    constraints = ({'type': 'eq', 'fun': lambda x: np.sum(x) - 1})\n",
    "    bound = constraintSet\n",
    "    bounds = tuple(bound for asset in range(numAssets))\n",
    "    result = sc.optimize.minimize(portfolio_variance, numAssets*[1./numAssets], args=args, method='SLSQP', bounds=bounds, constraints=constraints)\n",
    "    return result"
   ]
  },
  {
   "cell_type": "code",
   "execution_count": 24,
   "id": "9fd944d2-c6b7-40f0-884f-95d78fe323ec",
   "metadata": {},
   "outputs": [
    {
     "name": "stdout",
     "output_type": "stream",
     "text": [
      "0.11036502307867817 [0.14012145 0.28819784 0.5716807 ]\n"
     ]
    }
   ],
   "source": [
    "minVarResult = minimize_variance(meanReturns, covMatrix)\n",
    "minVar, minVarWeights = minVarResult['fun'], minVarResult['x']\n",
    "print(minVar, minVarWeights)"
   ]
  },
  {
   "cell_type": "code",
   "execution_count": null,
   "id": "f04b4956-7821-45cc-9c14-ba7348370bdc",
   "metadata": {},
   "outputs": [],
   "source": []
  }
 ],
 "metadata": {
  "kernelspec": {
   "display_name": "Python 3 (ipykernel)",
   "language": "python",
   "name": "python3"
  },
  "language_info": {
   "codemirror_mode": {
    "name": "ipython",
    "version": 3
   },
   "file_extension": ".py",
   "mimetype": "text/x-python",
   "name": "python",
   "nbconvert_exporter": "python",
   "pygments_lexer": "ipython3",
   "version": "3.10.12"
  }
 },
 "nbformat": 4,
 "nbformat_minor": 5
}
