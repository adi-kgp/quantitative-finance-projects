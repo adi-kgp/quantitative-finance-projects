{
 "cells": [
  {
   "cell_type": "markdown",
   "id": "2cd00049-5c65-420f-80d7-10e7c15a9330",
   "metadata": {},
   "source": [
    "### Implementation of Modern Portfolio Theory"
   ]
  },
  {
   "cell_type": "code",
   "execution_count": 1,
   "id": "f57dc1e2-ae6e-49b5-914c-28aba2243739",
   "metadata": {},
   "outputs": [],
   "source": [
    "import numpy as np\n",
    "import pandas as pd\n",
    "import yfinance as yf\n",
    "import datetime as dt\n",
    "import scipy as sc"
   ]
  },
  {
   "cell_type": "code",
   "execution_count": 2,
   "id": "fdfe588f-ebbc-4ae0-ab1b-3b3217834993",
   "metadata": {},
   "outputs": [],
   "source": [
    "# Import data\n",
    "def getData(stocks, start, end):\n",
    "    stockData = yf.download(stocks, start, end)\n",
    "    stockData = stockData['Close']\n",
    "    \n",
    "    returns = stockData.pct_change()\n",
    "    meanReturns = returns.mean()\n",
    "    covMatrix = returns.cov()\n",
    "\n",
    "    return meanReturns, covMatrix\n",
    "\n",
    "def portfolio_performance(weights, meanReturns, covMatrix):\n",
    "    returns = np.sum(meanReturns*weights)*252\n",
    "    std = np.sqrt(np.dot(weights.T, np.dot(covMatrix, weights))) * np.sqrt(252)\n",
    "    return returns, std\n",
    "\n",
    "stockList = ['CBA', 'BHP', \"TLS\"]\n",
    "stocks = [stock+'.AX' for stock in stockList]\n",
    "\n",
    "endDate = dt.datetime.now()\n",
    "startDate = endDate - dt.timedelta(days=365)\n",
    "\n",
    "weights = np.array([0.3, 0.3, 0.4])"
   ]
  },
  {
   "cell_type": "code",
   "execution_count": 3,
   "id": "cb99a54f-1cbc-429f-a1d8-da084e48bf11",
   "metadata": {},
   "outputs": [],
   "source": [
    "def negative_sharpe_ratio(weights, meanReturns, covMatrix, riskFreeRate=0):\n",
    "    pReturns, pStd = portfolio_performance(weights, meanReturns, covMatrix)\n",
    "    return -(pReturns - riskFreeRate)/pStd"
   ]
  },
  {
   "cell_type": "code",
   "execution_count": 4,
   "id": "59a365da-48e6-4a29-bb30-2fb589c91a60",
   "metadata": {},
   "outputs": [],
   "source": [
    "def maximize_sharpe_ratio(meanReturns, covMatrix, riskFreeRate = 0, constraintSet = (0,1)):\n",
    "    \"Minimize the negative sharpe ratio, by altering the weights of the portfolio\"\n",
    "    numAssets = len(meanReturns)\n",
    "    args = (meanReturns, covMatrix, riskFreeRate)\n",
    "    constraints = ({'type': 'eq', 'fun': lambda x: np.sum(x) - 1})\n",
    "    bound = constraintSet\n",
    "    bounds = tuple(bound for asset in range(numAssets))\n",
    "    result = sc.optimize.minimize(negative_sharpe_ratio, numAssets*[1./numAssets], args=args, method='SLSQP', bounds=bounds, constraints=constraints)\n",
    "    return result"
   ]
  },
  {
   "cell_type": "code",
   "execution_count": 5,
   "id": "0c73edd0-c202-4f3d-bb13-0d9ab06abba7",
   "metadata": {},
   "outputs": [
    {
     "name": "stderr",
     "output_type": "stream",
     "text": [
      "[*********************100%%**********************]  3 of 3 completed"
     ]
    },
    {
     "name": "stdout",
     "output_type": "stream",
     "text": [
      " message: Optimization terminated successfully\n",
      " success: True\n",
      "  status: 0\n",
      "     fun: -0.8858044965712679\n",
      "       x: [ 1.110e-16  1.000e+00  2.220e-16]\n",
      "     nit: 2\n",
      "     jac: [ 5.119e-01 -0.000e+00  1.327e+00]\n",
      "    nfev: 8\n",
      "    njev: 2\n"
     ]
    },
    {
     "name": "stderr",
     "output_type": "stream",
     "text": [
      "\n"
     ]
    }
   ],
   "source": [
    "meanReturns , covMatrix = getData(stocks, startDate, endDate)\n",
    "returns, std = portfolio_performance(weights, meanReturns, covMatrix)\n",
    "results = maximize_sharpe_ratio(meanReturns, covMatrix)\n",
    "print(results)"
   ]
  },
  {
   "cell_type": "code",
   "execution_count": 6,
   "id": "c438a128-5f8b-4956-b076-6be0dc52102c",
   "metadata": {},
   "outputs": [
    {
     "name": "stdout",
     "output_type": "stream",
     "text": [
      "-0.8858044965712679 [1.11022302e-16 1.00000000e+00 2.22044605e-16]\n"
     ]
    }
   ],
   "source": [
    "max_sharpe_ratio, maxWeights = results['fun'], results['x']\n",
    "print(max_sharpe_ratio, maxWeights)"
   ]
  },
  {
   "cell_type": "code",
   "execution_count": 7,
   "id": "a3a0be9c-58c5-4977-804c-d208a0025ace",
   "metadata": {},
   "outputs": [],
   "source": [
    "def portfolio_variance(weights, meanReturns, covMatrix):\n",
    "    return portfolio_performance(weights, meanReturns, covMatrix)[1]"
   ]
  },
  {
   "cell_type": "code",
   "execution_count": 8,
   "id": "3bbbe4f3-6aa4-4b0a-9898-e2c7f3d64f3e",
   "metadata": {},
   "outputs": [],
   "source": [
    "def minimize_variance(meanReturns, covMatrix, constraintSet=(0,1)):\n",
    "    \"Minimize the portfolio variance by altering the weights/allocation of assets in the portfolio\"\n",
    "    numAssets = len(meanReturns)\n",
    "    args = (meanReturns, covMatrix)\n",
    "    constraints = ({'type': 'eq', 'fun': lambda x: np.sum(x) - 1})\n",
    "    bound = constraintSet\n",
    "    bounds = tuple(bound for asset in range(numAssets))\n",
    "    result = sc.optimize.minimize(portfolio_variance, numAssets*[1./numAssets], args=args, method='SLSQP', bounds=bounds, constraints=constraints)\n",
    "    return result"
   ]
  },
  {
   "cell_type": "code",
   "execution_count": 9,
   "id": "9fd944d2-c6b7-40f0-884f-95d78fe323ec",
   "metadata": {},
   "outputs": [
    {
     "name": "stdout",
     "output_type": "stream",
     "text": [
      "0.11025720205262685 [0.14157835 0.28708229 0.57133936]\n"
     ]
    }
   ],
   "source": [
    "minVarResult = minimize_variance(meanReturns, covMatrix)\n",
    "minVar, minVarWeights = minVarResult['fun'], minVarResult['x']\n",
    "print(minVar, minVarWeights)"
   ]
  },
  {
   "cell_type": "code",
   "execution_count": 23,
   "id": "576b7b0b-47ed-42cc-9374-fa7913ba728a",
   "metadata": {},
   "outputs": [],
   "source": [
    "def portfolio_returns(weights, meanReturns, covMatrix):\n",
    "    return portfolio_performance(weights, meanReturns, covMatrix)[0]\n",
    "\n",
    "def efficient_optim(meanReturns, covMatrix, returnTarget, constraintSet=(0,1)):\n",
    "    \"\"\"\n",
    "        For each return target we want to optimize the portfolio for min variance\n",
    "    \"\"\"\n",
    "    numAssets = len(meanReturns)\n",
    "    args = (meanReturns, covMatrix)\n",
    "    constraints = ({'type':'eq', 'fun': lambda x: portfolio_returns(x, meanReturns, covMatrix) - returnTarget}, \n",
    "                   {'type': 'eq', 'fun': lambda x: np.sum(x) - 1})\n",
    "    bound = constraintSet\n",
    "    bounds = tuple(bound for asset in range(numAssets))\n",
    "    effOpt = sc.optimize.minimize(portfolio_variance, numAssets*[1./numAssets], args=args, \n",
    "                                  method='SLSQP', bounds=bounds, constraints=constraints)\n",
    "    return effOpt"
   ]
  },
  {
   "cell_type": "code",
   "execution_count": 24,
   "id": "7a9365e7-29b0-4f55-bd74-9ea6f25cce74",
   "metadata": {},
   "outputs": [
    {
     "name": "stdout",
     "output_type": "stream",
     "text": [
      " message: Optimization terminated successfully\n",
      " success: True\n",
      "  status: 0\n",
      "     fun: 0.14069985911960903\n",
      "       x: [ 8.799e-02  8.322e-01  7.983e-02]\n",
      "     nit: 5\n",
      "     jac: [ 1.043e-01  1.534e-01  4.828e-02]\n",
      "    nfev: 20\n",
      "    njev: 5\n"
     ]
    }
   ],
   "source": [
    "print(efficient_optim(meanReturns, covMatrix, returnTarget=0.1))"
   ]
  },
  {
   "cell_type": "code",
   "execution_count": 27,
   "id": "f04b4956-7821-45cc-9c14-ba7348370bdc",
   "metadata": {},
   "outputs": [
    {
     "name": "stdout",
     "output_type": "stream",
     "text": [
      "(13.73, 15.5,         allocation\n",
      "Ticker            \n",
      "BHP.AX         0.0\n",
      "CBA.AX       100.0\n",
      "TLS.AX         0.0, -5.92, 11.03,         allocation\n",
      "Ticker            \n",
      "BHP.AX       14.16\n",
      "CBA.AX       28.71\n",
      "TLS.AX       57.13, [0.13095130788747453, 0.13095130788934148, 0.13095130788747458, 0.13095130788747453, 0.13095130788747933, 0.13095130788747508, 0.1549595444963387, 0.1549595444963386, 0.15495954449641705, 0.15495954449632504, 0.1549595444964085, 0.15495954449632496, 0.15495954449634292, 0.15495954449632993, 0.15495954449651617, 0.15495954449632507, 0.15495954449632474, 0.15495954449632485, 0.15495954449639845, 0.15495954449714305])\n"
     ]
    }
   ],
   "source": [
    "def calculated_results(meanReturns, covMatrix, riskFreeRate=0, constraintSet=(0,1)):\n",
    "    \"\"\"Read in mean, cov matrix and other financial information,\n",
    "        Output Max SR, Min volatility, efficient frontier\"\"\"\n",
    "    # Max Sharpe ratio portfolio\n",
    "    maxSR_Portfolio = maximize_sharpe_ratio(meanReturns, covMatrix)\n",
    "    maxSR_returns, maxSR_std = portfolio_performance(maxSR_Portfolio['x'], meanReturns, covMatrix)\n",
    "    maxSR_returns, maxSR_std = round(maxSR_returns*100, 2), round(maxSR_std*100, 2)\n",
    "    maxSR_allocation = pd.DataFrame(maxSR_Portfolio['x'], index=meanReturns.index, columns=['allocation'])\n",
    "    maxSR_allocation.allocation = [round(i*100,2) for i in maxSR_allocation.allocation]\n",
    "    \n",
    "    # Min volatility portfolio\n",
    "    minVol_Portfolio = minimize_variance(meanReturns, covMatrix)\n",
    "    minVol_returns, minVol_std = portfolio_performance(minVol_Portfolio['x'], meanReturns, covMatrix)\n",
    "    minVol_returns, minVol_std = round(minVol_returns*100,2), round(minVol_std*100, 2)\n",
    "    minVol_allocation = pd.DataFrame(minVol_Portfolio['x'], index=meanReturns.index, columns=['allocation'])\n",
    "    minVol_allocation.allocation = [round(i*100,2) for i in minVol_allocation.allocation]\n",
    "\n",
    "    # Efficient frontier\n",
    "    efficientList = []\n",
    "    targetReturns = np.linspace(minVol_returns, maxSR_returns, 20)\n",
    "    for target in targetReturns:\n",
    "        efficientList.append(efficient_optim(meanReturns, covMatrix, target)['fun'])\n",
    "    \n",
    "    return maxSR_returns, maxSR_std, maxSR_allocation, minVol_returns, minVol_std, minVol_allocation, efficientList\n",
    "\n",
    "print(calculated_results(meanReturns, covMatrix))"
   ]
  },
  {
   "cell_type": "code",
   "execution_count": null,
   "id": "a86b323f-c711-4284-aa2a-c1434e5a8dc2",
   "metadata": {},
   "outputs": [],
   "source": []
  }
 ],
 "metadata": {
  "kernelspec": {
   "display_name": "Python 3 (ipykernel)",
   "language": "python",
   "name": "python3"
  },
  "language_info": {
   "codemirror_mode": {
    "name": "ipython",
    "version": 3
   },
   "file_extension": ".py",
   "mimetype": "text/x-python",
   "name": "python",
   "nbconvert_exporter": "python",
   "pygments_lexer": "ipython3",
   "version": "3.10.12"
  }
 },
 "nbformat": 4,
 "nbformat_minor": 5
}
