


# import the dependencies
import numpy as np
import pandas as pd
from sklearn.tree import DecisionTreeRegressor
from sklearn.linear_model import LinearRegression
from sklearn.model_selection import train_test_split
import matplotlib.pyplot as plt
import yfinance as yf
import datetime as dt
plt.style.use('bmh')


# Load the data
end_date = dt.datetime.now()
start_date = end_date - dt.timedelta(365)
end_date, start_date


df = yf.download('NFLX', start=start_date, end=end_date).reset_index()
df.head()


# Get the number of trading days
df.shape


# visualize the close price data
plt.figure(figsize=(16,8))
plt.title("Netflix")
plt.xlabel("Days")
plt.ylabel("Close Price USD {$}")
plt.plot(df['Close'])
plt.show()


# Get the close price
df = df[['Close']]
df.head()


# Create a variable to predict 'x' days out into the future
future_days = 25
# Create a new column (target) shifted 'x' units/days up
df.loc[:, 'Prediction'] = df[['Close']].shift(-future_days)
df.head()


df.tail()


# Create the feature dataset (X) and convert it into a numpy array and remove the last 'x' rows /days
X = np.array(df.drop(['Prediction'], axis=1))[:-future_days]
X


# Create the target data set (y) and convert it to a numpy array and get all of the target values except the last 'x' rows or days
y = np.array(df['Prediction'])[:-future_days]
print(y)


# Split the data into 75 percent training and 25 percent testing
x_train, x_test, y_train, y_test = train_test_split(X, y, test_size=0.25)


# Create the models
# Create the decision tree regressor model
tree = DecisionTreeRegressor().fit(x_train, y_train)

# Create the linear regression model
lr = LinearRegression().fit(x_train, y_train)


# Get the last x rows of the feature data set
x_future = df.drop(['Prediction'], axis=1)[:-future_days]
x_future = x_future.tail(future_days)
x_future = np.array(x_future)
x_future


# Show the model tree prediction
tree_prediction = tree.predict(x_future)
print(tree_prediction)


# Show the model linear regression prediction
lr_prediction = lr.predict(x_future)
print(lr_prediction)


# Visualize the data with tree model
predictions = tree_prediction

valid = df[X.shape[0]:]
valid['Predictions'] = predictions
plt.figure(figsize=(16,8))
plt.title('Model')
plt.xlabel('Days')
plt.ylabel('Close Price USD ($)')
plt.plot(df['Close'])
plt.plot(valid[['Close', 'Predictions']])
plt.legend(['Orig', 'Val', 'Pred'])
plt.show()


# Visualize the data with linear regression model
predictions = tree_prediction

valid = df[X.shape[0]:]
valid['Predictions'] = predictions
plt.figure(figsize=(16,8))
plt.title('Model')
plt.xlabel('Days')
plt.ylabel('Close Price USD ($)')
plt.plot(df['Close'])
plt.plot(valid[['Close', 'Predictions']])
plt.legend(['Orig', 'Val', 'Pred'])
plt.show()



