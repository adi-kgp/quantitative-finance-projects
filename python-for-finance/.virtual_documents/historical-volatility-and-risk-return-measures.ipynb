





import datetime as dt
import pandas as pd
import matplotlib.pyplot as plt
import numpy as np
import yfinance as yf
import plotly.offline as pyo
import plotly.graph_objects as go
from plotly.subplots import make_subplots

pyo.init_notebook_mode(connected=True)
pd.options.plotting.backend='plotly'





end = dt.datetime.now()
start = dt.datetime(2015, 1, 1)

df = yf.download(['^AXJO', 'CBA.AX', 'NAB.AX', 'STO.AX', 'BHP.AX'], start, end)
Close = df.Close
Close.head()





log_returns = np.log(df.Close/df.Close.shift(1)).dropna()
log_returns





daily_std = log_returns.std()
daily_std


annualized_vol = daily_std * np.sqrt(252)
annualized_vol*100





fig = make_subplots(rows=2, cols=2)
trace0 = go.Histogram(x=log_returns['CBA.AX'], name='CBA')
trace1 = go.Histogram(x=log_returns['NAB.AX'], name='NAB')
trace2 = go.Histogram(x=log_returns['STO.AX'], name='STO')
trace3 = go.Histogram(x=log_returns['BHP.AX'], name='BHP')

fig.append_trace(trace0, 1, 1)
fig.append_trace(trace1, 1, 2)
fig.append_trace(trace2, 2, 1)
fig.append_trace(trace3, 2, 2)

fig.update_layout(autosize=False, width=800, height=600, title='Frequency of log returns', 
                  xaxis=dict(title='CBA Annualized Vol: '+str(np.round(annualized_vol['CBA.AX']*100,1))),
                 xaxis2=dict(title='NAB Annualized Vol: '+str(np.round(annualized_vol['NAB.AX']*100,1))),
                 xaxis3=dict(title='STO Annualized Vol: '+str(np.round(annualized_vol['STO.AX']*100,1))),
                 xaxis4=dict(title='BHP Annualized Vol: '+str(np.round(annualized_vol['BHP.AX']*100,1))))

fig.show()








TRADING_DAYS = 60
volatility = log_returns.rolling(window=TRADING_DAYS).std()*np.sqrt(TRADING_DAYS)


volatility.plot().update_layout(autosize=False, width=1000, height=500)





Rf = 0.01/252
sharpe_ratio = (log_returns.rolling(window=TRADING_DAYS).mean() - Rf)*TRADING_DAYS/volatility


sharpe_ratio.plot().update_layout(autosize=False, width=800, height=400)





sortino_vol = log_returns[log_returns<0].rolling(window=TRADING_DAYS, center=True, min_periods=10).std()*np.sqrt(TRADING_DAYS)


sortino_ratio = (log_returns.rolling(window=TRADING_DAYS).mean() - Rf)*TRADING_DAYS/sortino_vol


sortino_vol.plot().update_layout(autosize=False, width=800, height=400)


sortino_ratio.plot().update_layout(autosize=False, width=800, height=400)





m2_ratio = pd.DataFrame()
benchmark_vol = volatility['^AXJO']
for c in log_returns.columns:
    if c != '^AXJO':
        m2_ratio[c] = (sharpe_ratio[c]*benchmark_vol/TRADING_DAYS + Rf)*TRADING_DAYS


m2_ratio.plot().update_layout(autosize=False, width=800, height=400)





















