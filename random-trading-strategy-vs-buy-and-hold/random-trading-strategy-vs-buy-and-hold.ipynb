{
 "cells": [
  {
   "cell_type": "code",
   "execution_count": 77,
   "id": "e109c9b8-2fba-433d-bd5a-d4a2bdef668a",
   "metadata": {},
   "outputs": [],
   "source": [
    "# Import the libraries\n",
    "import pandas as pd\n",
    "import numpy as np\n",
    "import matplotlib.pyplot as plt\n",
    "import datetime as dt\n",
    "import yfinance as yf"
   ]
  },
  {
   "cell_type": "code",
   "execution_count": 78,
   "id": "b3b3b2d7-61a2-40d9-bdd0-759821bb407c",
   "metadata": {},
   "outputs": [
    {
     "name": "stderr",
     "output_type": "stream",
     "text": [
      "[*********************100%%**********************]  1 of 1 completed\n"
     ]
    },
    {
     "data": {
      "text/html": [
       "<div>\n",
       "<style scoped>\n",
       "    .dataframe tbody tr th:only-of-type {\n",
       "        vertical-align: middle;\n",
       "    }\n",
       "\n",
       "    .dataframe tbody tr th {\n",
       "        vertical-align: top;\n",
       "    }\n",
       "\n",
       "    .dataframe thead th {\n",
       "        text-align: right;\n",
       "    }\n",
       "</style>\n",
       "<table border=\"1\" class=\"dataframe\">\n",
       "  <thead>\n",
       "    <tr style=\"text-align: right;\">\n",
       "      <th></th>\n",
       "      <th>Open</th>\n",
       "      <th>High</th>\n",
       "      <th>Low</th>\n",
       "      <th>Close</th>\n",
       "      <th>Adj Close</th>\n",
       "      <th>Volume</th>\n",
       "    </tr>\n",
       "    <tr>\n",
       "      <th>Date</th>\n",
       "      <th></th>\n",
       "      <th></th>\n",
       "      <th></th>\n",
       "      <th></th>\n",
       "      <th></th>\n",
       "      <th></th>\n",
       "    </tr>\n",
       "  </thead>\n",
       "  <tbody>\n",
       "    <tr>\n",
       "      <th>2012-05-18</th>\n",
       "      <td>1305.050049</td>\n",
       "      <td>1312.239990</td>\n",
       "      <td>1291.979980</td>\n",
       "      <td>1295.219971</td>\n",
       "      <td>1295.219971</td>\n",
       "      <td>4512470000</td>\n",
       "    </tr>\n",
       "    <tr>\n",
       "      <th>2012-05-21</th>\n",
       "      <td>1295.729980</td>\n",
       "      <td>1316.390015</td>\n",
       "      <td>1295.729980</td>\n",
       "      <td>1315.989990</td>\n",
       "      <td>1315.989990</td>\n",
       "      <td>3786750000</td>\n",
       "    </tr>\n",
       "    <tr>\n",
       "      <th>2012-05-22</th>\n",
       "      <td>1316.089966</td>\n",
       "      <td>1328.489990</td>\n",
       "      <td>1310.040039</td>\n",
       "      <td>1316.630005</td>\n",
       "      <td>1316.630005</td>\n",
       "      <td>4123680000</td>\n",
       "    </tr>\n",
       "    <tr>\n",
       "      <th>2012-05-23</th>\n",
       "      <td>1316.020020</td>\n",
       "      <td>1320.709961</td>\n",
       "      <td>1296.530029</td>\n",
       "      <td>1318.859985</td>\n",
       "      <td>1318.859985</td>\n",
       "      <td>4108330000</td>\n",
       "    </tr>\n",
       "    <tr>\n",
       "      <th>2012-05-24</th>\n",
       "      <td>1318.719971</td>\n",
       "      <td>1324.140015</td>\n",
       "      <td>1310.500000</td>\n",
       "      <td>1320.680054</td>\n",
       "      <td>1320.680054</td>\n",
       "      <td>3937670000</td>\n",
       "    </tr>\n",
       "    <tr>\n",
       "      <th>...</th>\n",
       "      <td>...</td>\n",
       "      <td>...</td>\n",
       "      <td>...</td>\n",
       "      <td>...</td>\n",
       "      <td>...</td>\n",
       "      <td>...</td>\n",
       "    </tr>\n",
       "    <tr>\n",
       "      <th>2024-05-08</th>\n",
       "      <td>5168.979980</td>\n",
       "      <td>5191.950195</td>\n",
       "      <td>5165.859863</td>\n",
       "      <td>5187.669922</td>\n",
       "      <td>5187.669922</td>\n",
       "      <td>3842100000</td>\n",
       "    </tr>\n",
       "    <tr>\n",
       "      <th>2024-05-09</th>\n",
       "      <td>5189.029785</td>\n",
       "      <td>5215.299805</td>\n",
       "      <td>5180.410156</td>\n",
       "      <td>5214.080078</td>\n",
       "      <td>5214.080078</td>\n",
       "      <td>3727370000</td>\n",
       "    </tr>\n",
       "    <tr>\n",
       "      <th>2024-05-10</th>\n",
       "      <td>5225.490234</td>\n",
       "      <td>5239.660156</td>\n",
       "      <td>5209.680176</td>\n",
       "      <td>5222.680176</td>\n",
       "      <td>5222.680176</td>\n",
       "      <td>3617900000</td>\n",
       "    </tr>\n",
       "    <tr>\n",
       "      <th>2024-05-13</th>\n",
       "      <td>5233.080078</td>\n",
       "      <td>5237.259766</td>\n",
       "      <td>5211.160156</td>\n",
       "      <td>5221.419922</td>\n",
       "      <td>5221.419922</td>\n",
       "      <td>4255710000</td>\n",
       "    </tr>\n",
       "    <tr>\n",
       "      <th>2024-05-14</th>\n",
       "      <td>5221.100098</td>\n",
       "      <td>5250.370117</td>\n",
       "      <td>5217.979980</td>\n",
       "      <td>5246.680176</td>\n",
       "      <td>5246.680176</td>\n",
       "      <td>4763580000</td>\n",
       "    </tr>\n",
       "  </tbody>\n",
       "</table>\n",
       "<p>3016 rows × 6 columns</p>\n",
       "</div>"
      ],
      "text/plain": [
       "                   Open         High          Low        Close    Adj Close  \\\n",
       "Date                                                                          \n",
       "2012-05-18  1305.050049  1312.239990  1291.979980  1295.219971  1295.219971   \n",
       "2012-05-21  1295.729980  1316.390015  1295.729980  1315.989990  1315.989990   \n",
       "2012-05-22  1316.089966  1328.489990  1310.040039  1316.630005  1316.630005   \n",
       "2012-05-23  1316.020020  1320.709961  1296.530029  1318.859985  1318.859985   \n",
       "2012-05-24  1318.719971  1324.140015  1310.500000  1320.680054  1320.680054   \n",
       "...                 ...          ...          ...          ...          ...   \n",
       "2024-05-08  5168.979980  5191.950195  5165.859863  5187.669922  5187.669922   \n",
       "2024-05-09  5189.029785  5215.299805  5180.410156  5214.080078  5214.080078   \n",
       "2024-05-10  5225.490234  5239.660156  5209.680176  5222.680176  5222.680176   \n",
       "2024-05-13  5233.080078  5237.259766  5211.160156  5221.419922  5221.419922   \n",
       "2024-05-14  5221.100098  5250.370117  5217.979980  5246.680176  5246.680176   \n",
       "\n",
       "                Volume  \n",
       "Date                    \n",
       "2012-05-18  4512470000  \n",
       "2012-05-21  3786750000  \n",
       "2012-05-22  4123680000  \n",
       "2012-05-23  4108330000  \n",
       "2012-05-24  3937670000  \n",
       "...                ...  \n",
       "2024-05-08  3842100000  \n",
       "2024-05-09  3727370000  \n",
       "2024-05-10  3617900000  \n",
       "2024-05-13  4255710000  \n",
       "2024-05-14  4763580000  \n",
       "\n",
       "[3016 rows x 6 columns]"
      ]
     },
     "execution_count": 78,
     "metadata": {},
     "output_type": "execute_result"
    }
   ],
   "source": [
    "# Get the data for sp500 (2 yrs)\n",
    "end = dt.datetime.now()\n",
    "start = end - dt.timedelta(days=365*12)\n",
    "data = yf.download(\"^GSPC\", start, end)\n",
    "data"
   ]
  },
  {
   "cell_type": "code",
   "execution_count": 79,
   "id": "8c5263b3-19e4-4161-bc0f-fd4031285e9a",
   "metadata": {},
   "outputs": [],
   "source": [
    "# Calculate the daily returns \n",
    "data['returns'] = data['Adj Close'].pct_change()"
   ]
  },
  {
   "cell_type": "code",
   "execution_count": 80,
   "id": "553ba281-41a2-4c92-856b-c0897fde5154",
   "metadata": {},
   "outputs": [],
   "source": [
    "# Define the buy and hold strategy\n",
    "data['buy_and_hold'] = (1 + data['returns']).cumprod()"
   ]
  },
  {
   "cell_type": "code",
   "execution_count": 81,
   "id": "7903d133-53b8-40fe-bcd4-22cc533035c3",
   "metadata": {},
   "outputs": [],
   "source": [
    "# Define the random positions\n",
    "data['position'] = np.random.choice([1,0], size=len(data))"
   ]
  },
  {
   "cell_type": "code",
   "execution_count": 82,
   "id": "6eb2c36d-3a89-4b67-8c05-0da2c1ea70e3",
   "metadata": {},
   "outputs": [],
   "source": [
    "# Set the first position to 1\n",
    "data.loc[data.index[0], 'position'] = 1"
   ]
  },
  {
   "cell_type": "code",
   "execution_count": 83,
   "id": "b88858c2-d437-42e6-bd22-4d9cffc11e4d",
   "metadata": {},
   "outputs": [],
   "source": [
    "# Define the random strategy returns\n",
    "data['random'] = (1 + data['returns'] * data['position']).cumprod()"
   ]
  },
  {
   "cell_type": "code",
   "execution_count": 84,
   "id": "9400e0ab-a537-412d-9583-7bf4c234b782",
   "metadata": {},
   "outputs": [
    {
     "data": {
      "image/png": "[encoded data removed]",
      "text/plain": [
       "<Figure size 640x480 with 1 Axes>"
      ]
     },
     "metadata": {},
     "output_type": "display_data"
    }
   ],
   "source": [
    "# Plot the two strategies\n",
    "plt.plot(data['buy_and_hold'], label=\"Buy and Hold\")\n",
    "plt.plot(data['random'], label='Random')\n",
    "plt.xticks(rotation=90)\n",
    "plt.legend()\n",
    "plt.show()"
   ]
  },
  {
   "cell_type": "code",
   "execution_count": 85,
   "id": "6c51e256-abb1-4e0a-bc04-3fffbb18f19b",
   "metadata": {},
   "outputs": [
    {
     "name": "stdout",
     "output_type": "stream",
     "text": [
      "A $1 investment for buying and holding strategy for holding the S&P500 would be $ 4.05\n",
      "A $1 investment for the random trading strategy for holding the S&P500 would be $ 1.71\n"
     ]
    },
    {
     "name": "stderr",
     "output_type": "stream",
     "text": [
      "/tmp/ipykernel_6212/1252711258.py:2: FutureWarning: Series.__getitem__ treating keys as positions is deprecated. In a future version, integer keys will always be treated as labels (consistent with DataFrame behavior). To access a value by position, use `ser.iloc[pos]`\n",
      "  print(\"A $1 investment for buying and holding strategy for holding the S&P500 would be $\", round(data['buy_and_hold'][-1], 2))\n",
      "/tmp/ipykernel_6212/1252711258.py:3: FutureWarning: Series.__getitem__ treating keys as positions is deprecated. In a future version, integer keys will always be treated as labels (consistent with DataFrame behavior). To access a value by position, use `ser.iloc[pos]`\n",
      "  print(\"A $1 investment for the random trading strategy for holding the S&P500 would be $\", round(data['random'][-1], 2))\n"
     ]
    }
   ],
   "source": [
    "# Show the amount of money you would have after a $1 investment\n",
    "print(\"A $1 investment for buying and holding strategy for holding the S&P500 would be $\", round(data['buy_and_hold'][-1], 2))\n",
    "print(\"A $1 investment for the random trading strategy for holding the S&P500 would be $\", round(data['random'][-1], 2))"
   ]
  },
  {
   "cell_type": "code",
   "execution_count": null,
   "id": "9d5aa774-0f44-4da4-9613-75e68075fd23",
   "metadata": {},
   "outputs": [],
   "source": []
  }
 ],
 "metadata": {
  "kernelspec": {
   "display_name": "Python 3 (ipykernel)",
   "language": "python",
   "name": "python3"
  },
  "language_info": {
   "codemirror_mode": {
    "name": "ipython",
    "version": 3
   },
   "file_extension": ".py",
   "mimetype": "text/x-python",
   "name": "python",
   "nbconvert_exporter": "python",
   "pygments_lexer": "ipython3",
   "version": "3.10.12"
  }
 },
 "nbformat": 4,
 "nbformat_minor": 5
}
